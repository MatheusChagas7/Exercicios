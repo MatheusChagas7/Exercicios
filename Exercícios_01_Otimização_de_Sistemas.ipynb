{
  "nbformat": 4,
  "nbformat_minor": 0,
  "metadata": {
    "colab": {
      "provenance": [],
      "authorship_tag": "ABX9TyNJgcHu1IIfOOmunAHUUiE+",
      "include_colab_link": true
    },
    "kernelspec": {
      "name": "python3",
      "display_name": "Python 3"
    },
    "language_info": {
      "name": "python"
    }
  },
  "cells": [
    {
      "cell_type": "markdown",
      "metadata": {
        "id": "view-in-github",
        "colab_type": "text"
      },
      "source": [
        "<a href=\"https://colab.research.google.com/github/MatheusChagas7/Exercicios/blob/main/Exerc%C3%ADcios_01_Otimiza%C3%A7%C3%A3o_de_Sistemas.ipynb\" target=\"_parent\"><img src=\"https://colab.research.google.com/assets/colab-badge.svg\" alt=\"Open In Colab\"/></a>"
      ]
    },
    {
      "cell_type": "markdown",
      "source": [
        "https://pypi.org/project/PuLP/\n",
        "\n",
        "https://coin-or.github.io/pulp/\n",
        "\n",
        "https://medium.com/@ieeecisunb/introdu%C3%A7%C3%A3o-%C3%A0-programa%C3%A7%C3%A3o-linear-com-pulp-aed918a8d241"
      ],
      "metadata": {
        "id": "oyma3poPt1MK"
      }
    },
    {
      "cell_type": "code",
      "execution_count": null,
      "metadata": {
        "id": "dpjCmUJ8hyKF"
      },
      "outputs": [],
      "source": [
        "!pip install -q pulp\n",
        "import pulp"
      ]
    },
    {
      "cell_type": "code",
      "source": [
        "x = [1, 2, 3];\n",
        "j = [1, 2, 3];\n",
        "agua = [1800, 2000, 950];\n",
        "valorMilho = 5000;\n",
        "valorArroz = 4000;\n",
        "valorFeijao = 1800;\n",
        "maxLucro = 0;"
      ],
      "metadata": {
        "id": "vFroncrTiNVr"
      },
      "execution_count": null,
      "outputs": []
    },
    {
      "cell_type": "code",
      "source": [
        "# Criando um problema de maximização linear\n",
        "problema = pulp.LpProblem(\"Cooperativa\", pulp.LpMaximize)\n",
        "\n",
        "# Variáveis de decisão\n",
        "culturas = [\"milho\", \"arroz\", \"feijão\"]\n",
        "fazendas = [1, 2, 3]\n",
        "\n",
        "# Armazenar as variáveis de decisão xij\n",
        "x = pulp.LpVariable.dicts(\"Área\", [(i, j) for i in fazendas for j in culturas], lowBound=0)\n",
        "\n",
        "# Função Objetivo\n",
        "problema += pulp.lpSum(5000 * x[(i, 'milho')] + 4000 * x[(i, 'arroz')] + 1800 * x[(i, 'feijão')] for i in fazendas)\n",
        "\n",
        "# Max área por cultura\n",
        "problema += (x[(1, 'milho')] + x[(2, 'milho')] + x[(3, 'milho')]) <= 660\n",
        "problema += (x[(1, 'arroz')] + x[(2, 'arroz')] + x[(3, 'arroz')])<= 880\n",
        "problema += (x[(1, 'feijão')] + x[(2, 'feijão')] + x[(3, 'feijão')]) <= 400\n",
        "\n",
        "# Max área por fazenda\n",
        "problema += (x[(1, 'milho')] + x[(2, 'arroz')] + x[(3, 'feijão')]) <= 400\n",
        "problema += (x[(1, 'milho')] + x[(2, 'arroz')] + x[(3, 'feijão')])<= 650\n",
        "problema += (x[(1, 'milho')] + x[(2, 'arroz')] + x[(3, 'feijão')]) <= 350\n",
        "\n",
        "# Considerando que a proporção para a área total\n",
        "prop_m = (x[(1, 'milho')] + x[(2, 'milho')] + x[(3, 'milho')]) / 400\n",
        "prop_a = (x[(1, 'arroz')] + x[(2, 'arroz')] + x[(3, 'arroz')]) / 650\n",
        "prop_f = (x[(1, 'feijão')] + x[(2, 'feijão')] + x[(3, 'feijão')]) / 350\n",
        "\n",
        "problema += prop_m == prop_a == prop_f\n",
        "\n",
        "# Restrição de água\n",
        "agua_disponivel = {1: 1800, 2: 2200, 3: 950}\n",
        "for i in fazendas:\n",
        "    problema += (5.5 * x[(i, 'milho')] + 4 * x[(i, 'arroz')] + 3.5 * x[(i, 'feijão')]) <= agua_disponivel[i]\n",
        "\n",
        "# Resolva o problema\n",
        "problema.solve()\n",
        "\n",
        "# Imprimindo resultados\n",
        "print(\"Solução:\", pulp.LpStatus[problema.status])\n",
        "print(f\"\\n\")\n",
        "print(\"Área Plantada de Cada Cultura em Cada Fazenda:\")\n",
        "print(f\"\\n\")\n",
        "for i in fazendas:\n",
        "    print(\"FAZENDA\", i)\n",
        "    for j in culturas:\n",
        "        print(f\"{j}: {round(x[(i, j)].value(),2)} acres\")\n",
        "    print(f\"\\n\")\n",
        "\n",
        "# Valor do lucro total\n",
        "lucroTotal = pulp.value(problema.objective)\n",
        "lucroTotal = (f\"{lucroTotal:,.2f}\")\n",
        "lucroTotal = lucroTotal.replace(\",\", \".\")\n",
        "print(f\"Lucro Total: R${lucroTotal}\")"
      ],
      "metadata": {
        "colab": {
          "base_uri": "https://localhost:8080/"
        },
        "id": "S32Mzh3MjpZT",
        "outputId": "967cda56-c446-4593-9d6d-c8f4b435437d"
      },
      "execution_count": null,
      "outputs": [
        {
          "output_type": "stream",
          "name": "stdout",
          "text": [
            "Solução: Optimal\n",
            "\n",
            "\n",
            "Área Plantada de Cada Cultura em Cada Fazenda:\n",
            "\n",
            "\n",
            "FAZENDA 1\n",
            "milho: 191.54 acres\n",
            "arroz: 186.64 acres\n",
            "feijão: 0.0 acres\n",
            "\n",
            "\n",
            "FAZENDA 2\n",
            "milho: 372.6 acres\n",
            "arroz: 37.68 acres\n",
            "feijão: 0.0 acres\n",
            "\n",
            "\n",
            "FAZENDA 3\n",
            "milho: 95.86 acres\n",
            "arroz: 0.0 acres\n",
            "feijão: 120.78 acres\n",
            "\n",
            "\n",
            "Lucro Total: R$4.414.666.66\n"
          ]
        }
      ]
    }
  ]
}